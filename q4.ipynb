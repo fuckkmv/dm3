{
 "cells": [
  {
   "cell_type": "code",
   "execution_count": 1,
   "id": "e013fa95",
   "metadata": {},
   "outputs": [],
   "source": [
    "from efficient_apriori import apriori"
   ]
  },
  {
   "cell_type": "code",
   "execution_count": 2,
   "id": "237371d9",
   "metadata": {},
   "outputs": [],
   "source": [
    "import pandas as pd"
   ]
  },
  {
   "cell_type": "code",
   "execution_count": 3,
   "id": "50246248",
   "metadata": {},
   "outputs": [],
   "source": [
    "items = 'coke milk diaper chocolate butter bread'.split()"
   ]
  },
  {
   "cell_type": "code",
   "execution_count": 4,
   "id": "a76a8ffc",
   "metadata": {},
   "outputs": [],
   "source": [
    "import random"
   ]
  },
  {
   "cell_type": "code",
   "execution_count": 5,
   "id": "59e09950",
   "metadata": {},
   "outputs": [],
   "source": [
    "data = [random.sample(items, random.randint(1, len(items))) for _ in range(10)]"
   ]
  },
  {
   "cell_type": "code",
   "execution_count": 6,
   "id": "29fd686d",
   "metadata": {},
   "outputs": [
    {
     "data": {
      "text/plain": [
       "[['coke', 'diaper'],\n",
       " ['chocolate', 'butter', 'milk', 'bread', 'coke'],\n",
       " ['chocolate'],\n",
       " ['chocolate', 'milk', 'butter'],\n",
       " ['diaper', 'coke', 'chocolate', 'milk', 'bread'],\n",
       " ['diaper', 'butter', 'coke', 'milk', 'bread', 'chocolate'],\n",
       " ['coke', 'diaper', 'milk', 'chocolate'],\n",
       " ['diaper', 'butter'],\n",
       " ['coke', 'diaper', 'chocolate', 'butter'],\n",
       " ['diaper']]"
      ]
     },
     "execution_count": 6,
     "metadata": {},
     "output_type": "execute_result"
    }
   ],
   "source": [
    "data"
   ]
  },
  {
   "cell_type": "code",
   "execution_count": 7,
   "id": "cb7a7864",
   "metadata": {},
   "outputs": [],
   "source": [
    "itemset, rules = apriori(data, min_confidence=.75, min_support=.5)"
   ]
  },
  {
   "cell_type": "code",
   "execution_count": 8,
   "id": "a311bd9e",
   "metadata": {},
   "outputs": [
    {
     "data": {
      "text/plain": [
       "{1: {('coke',): 6,\n",
       "  ('diaper',): 7,\n",
       "  ('chocolate',): 7,\n",
       "  ('butter',): 5,\n",
       "  ('milk',): 5},\n",
       " 2: {('chocolate', 'coke'): 5,\n",
       "  ('chocolate', 'milk'): 5,\n",
       "  ('coke', 'diaper'): 5}}"
      ]
     },
     "execution_count": 8,
     "metadata": {},
     "output_type": "execute_result"
    }
   ],
   "source": [
    "itemset"
   ]
  },
  {
   "cell_type": "code",
   "execution_count": 9,
   "id": "7a3f59e7",
   "metadata": {},
   "outputs": [
    {
     "data": {
      "text/plain": [
       "[{coke} -> {chocolate}, {milk} -> {chocolate}, {coke} -> {diaper}]"
      ]
     },
     "execution_count": 9,
     "metadata": {},
     "output_type": "execute_result"
    }
   ],
   "source": [
    "rules"
   ]
  },
  {
   "cell_type": "code",
   "execution_count": 10,
   "id": "974d15cd",
   "metadata": {},
   "outputs": [],
   "source": [
    "itemset, rules = apriori(data, min_confidence=.6, min_support=.6)"
   ]
  },
  {
   "cell_type": "code",
   "execution_count": 38,
   "id": "441e01b3",
   "metadata": {},
   "outputs": [
    {
     "data": {
      "text/plain": [
       "{1: {('chocolate',): 4,\n",
       "  ('coke',): 5,\n",
       "  ('diaper',): 6,\n",
       "  ('butter',): 6,\n",
       "  ('milk',): 6},\n",
       " 2: {('butter', 'chocolate'): 4,\n",
       "  ('butter', 'coke'): 4,\n",
       "  ('butter', 'diaper'): 5,\n",
       "  ('butter', 'milk'): 5,\n",
       "  ('coke', 'diaper'): 4,\n",
       "  ('coke', 'milk'): 4,\n",
       "  ('diaper', 'milk'): 4},\n",
       " 3: {('butter', 'coke', 'diaper'): 4,\n",
       "  ('butter', 'coke', 'milk'): 4,\n",
       "  ('butter', 'diaper', 'milk'): 4,\n",
       "  ('coke', 'diaper', 'milk'): 4},\n",
       " 4: {('butter', 'coke', 'diaper', 'milk'): 4}}"
      ]
     },
     "execution_count": 38,
     "metadata": {},
     "output_type": "execute_result"
    }
   ],
   "source": [
    "itemset"
   ]
  },
  {
   "cell_type": "code",
   "execution_count": 11,
   "id": "3c0d3bf9",
   "metadata": {},
   "outputs": [
    {
     "data": {
      "text/plain": [
       "[]"
      ]
     },
     "execution_count": 11,
     "metadata": {},
     "output_type": "execute_result"
    }
   ],
   "source": [
    "rules"
   ]
  },
  {
   "cell_type": "markdown",
   "id": "360b1ecd",
   "metadata": {},
   "source": [
    "# Real Grocery Dataset"
   ]
  },
  {
   "cell_type": "code",
   "execution_count": 20,
   "id": "93e64eb6",
   "metadata": {},
   "outputs": [],
   "source": [
    "df = pd.read_csv('D:/DM/datasets/groceriesDataset.csv')"
   ]
  },
  {
   "cell_type": "code",
   "execution_count": 21,
   "id": "1fd12d05",
   "metadata": {},
   "outputs": [
    {
     "data": {
      "text/html": [
       "<div>\n",
       "<style scoped>\n",
       "    .dataframe tbody tr th:only-of-type {\n",
       "        vertical-align: middle;\n",
       "    }\n",
       "\n",
       "    .dataframe tbody tr th {\n",
       "        vertical-align: top;\n",
       "    }\n",
       "\n",
       "    .dataframe thead th {\n",
       "        text-align: right;\n",
       "    }\n",
       "</style>\n",
       "<table border=\"1\" class=\"dataframe\">\n",
       "  <thead>\n",
       "    <tr style=\"text-align: right;\">\n",
       "      <th></th>\n",
       "      <th>Item(s)</th>\n",
       "      <th>Item 1</th>\n",
       "      <th>Item 2</th>\n",
       "      <th>Item 3</th>\n",
       "      <th>Item 4</th>\n",
       "      <th>Item 5</th>\n",
       "      <th>Item 6</th>\n",
       "      <th>Item 7</th>\n",
       "      <th>Item 8</th>\n",
       "      <th>Item 9</th>\n",
       "      <th>...</th>\n",
       "      <th>Item 23</th>\n",
       "      <th>Item 24</th>\n",
       "      <th>Item 25</th>\n",
       "      <th>Item 26</th>\n",
       "      <th>Item 27</th>\n",
       "      <th>Item 28</th>\n",
       "      <th>Item 29</th>\n",
       "      <th>Item 30</th>\n",
       "      <th>Item 31</th>\n",
       "      <th>Item 32</th>\n",
       "    </tr>\n",
       "  </thead>\n",
       "  <tbody>\n",
       "    <tr>\n",
       "      <th>0</th>\n",
       "      <td>4</td>\n",
       "      <td>citrus fruit</td>\n",
       "      <td>semi-finished bread</td>\n",
       "      <td>margarine</td>\n",
       "      <td>ready soups</td>\n",
       "      <td>NaN</td>\n",
       "      <td>NaN</td>\n",
       "      <td>NaN</td>\n",
       "      <td>NaN</td>\n",
       "      <td>NaN</td>\n",
       "      <td>...</td>\n",
       "      <td>NaN</td>\n",
       "      <td>NaN</td>\n",
       "      <td>NaN</td>\n",
       "      <td>NaN</td>\n",
       "      <td>NaN</td>\n",
       "      <td>NaN</td>\n",
       "      <td>NaN</td>\n",
       "      <td>NaN</td>\n",
       "      <td>NaN</td>\n",
       "      <td>NaN</td>\n",
       "    </tr>\n",
       "    <tr>\n",
       "      <th>1</th>\n",
       "      <td>3</td>\n",
       "      <td>tropical fruit</td>\n",
       "      <td>yogurt</td>\n",
       "      <td>coffee</td>\n",
       "      <td>NaN</td>\n",
       "      <td>NaN</td>\n",
       "      <td>NaN</td>\n",
       "      <td>NaN</td>\n",
       "      <td>NaN</td>\n",
       "      <td>NaN</td>\n",
       "      <td>...</td>\n",
       "      <td>NaN</td>\n",
       "      <td>NaN</td>\n",
       "      <td>NaN</td>\n",
       "      <td>NaN</td>\n",
       "      <td>NaN</td>\n",
       "      <td>NaN</td>\n",
       "      <td>NaN</td>\n",
       "      <td>NaN</td>\n",
       "      <td>NaN</td>\n",
       "      <td>NaN</td>\n",
       "    </tr>\n",
       "    <tr>\n",
       "      <th>2</th>\n",
       "      <td>1</td>\n",
       "      <td>whole milk</td>\n",
       "      <td>NaN</td>\n",
       "      <td>NaN</td>\n",
       "      <td>NaN</td>\n",
       "      <td>NaN</td>\n",
       "      <td>NaN</td>\n",
       "      <td>NaN</td>\n",
       "      <td>NaN</td>\n",
       "      <td>NaN</td>\n",
       "      <td>...</td>\n",
       "      <td>NaN</td>\n",
       "      <td>NaN</td>\n",
       "      <td>NaN</td>\n",
       "      <td>NaN</td>\n",
       "      <td>NaN</td>\n",
       "      <td>NaN</td>\n",
       "      <td>NaN</td>\n",
       "      <td>NaN</td>\n",
       "      <td>NaN</td>\n",
       "      <td>NaN</td>\n",
       "    </tr>\n",
       "    <tr>\n",
       "      <th>3</th>\n",
       "      <td>4</td>\n",
       "      <td>pip fruit</td>\n",
       "      <td>yogurt</td>\n",
       "      <td>cream cheese</td>\n",
       "      <td>meat spreads</td>\n",
       "      <td>NaN</td>\n",
       "      <td>NaN</td>\n",
       "      <td>NaN</td>\n",
       "      <td>NaN</td>\n",
       "      <td>NaN</td>\n",
       "      <td>...</td>\n",
       "      <td>NaN</td>\n",
       "      <td>NaN</td>\n",
       "      <td>NaN</td>\n",
       "      <td>NaN</td>\n",
       "      <td>NaN</td>\n",
       "      <td>NaN</td>\n",
       "      <td>NaN</td>\n",
       "      <td>NaN</td>\n",
       "      <td>NaN</td>\n",
       "      <td>NaN</td>\n",
       "    </tr>\n",
       "    <tr>\n",
       "      <th>4</th>\n",
       "      <td>4</td>\n",
       "      <td>other vegetables</td>\n",
       "      <td>whole milk</td>\n",
       "      <td>condensed milk</td>\n",
       "      <td>long life bakery product</td>\n",
       "      <td>NaN</td>\n",
       "      <td>NaN</td>\n",
       "      <td>NaN</td>\n",
       "      <td>NaN</td>\n",
       "      <td>NaN</td>\n",
       "      <td>...</td>\n",
       "      <td>NaN</td>\n",
       "      <td>NaN</td>\n",
       "      <td>NaN</td>\n",
       "      <td>NaN</td>\n",
       "      <td>NaN</td>\n",
       "      <td>NaN</td>\n",
       "      <td>NaN</td>\n",
       "      <td>NaN</td>\n",
       "      <td>NaN</td>\n",
       "      <td>NaN</td>\n",
       "    </tr>\n",
       "  </tbody>\n",
       "</table>\n",
       "<p>5 rows × 33 columns</p>\n",
       "</div>"
      ],
      "text/plain": [
       "   Item(s)            Item 1               Item 2          Item 3   \n",
       "0        4      citrus fruit  semi-finished bread       margarine  \\\n",
       "1        3    tropical fruit               yogurt          coffee   \n",
       "2        1        whole milk                  NaN             NaN   \n",
       "3        4         pip fruit               yogurt    cream cheese   \n",
       "4        4  other vegetables           whole milk  condensed milk   \n",
       "\n",
       "                     Item 4 Item 5 Item 6 Item 7 Item 8 Item 9  ... Item 23   \n",
       "0               ready soups    NaN    NaN    NaN    NaN    NaN  ...     NaN  \\\n",
       "1                       NaN    NaN    NaN    NaN    NaN    NaN  ...     NaN   \n",
       "2                       NaN    NaN    NaN    NaN    NaN    NaN  ...     NaN   \n",
       "3              meat spreads    NaN    NaN    NaN    NaN    NaN  ...     NaN   \n",
       "4  long life bakery product    NaN    NaN    NaN    NaN    NaN  ...     NaN   \n",
       "\n",
       "  Item 24 Item 25 Item 26 Item 27 Item 28 Item 29 Item 30 Item 31 Item 32  \n",
       "0     NaN     NaN     NaN     NaN     NaN     NaN     NaN     NaN     NaN  \n",
       "1     NaN     NaN     NaN     NaN     NaN     NaN     NaN     NaN     NaN  \n",
       "2     NaN     NaN     NaN     NaN     NaN     NaN     NaN     NaN     NaN  \n",
       "3     NaN     NaN     NaN     NaN     NaN     NaN     NaN     NaN     NaN  \n",
       "4     NaN     NaN     NaN     NaN     NaN     NaN     NaN     NaN     NaN  \n",
       "\n",
       "[5 rows x 33 columns]"
      ]
     },
     "execution_count": 21,
     "metadata": {},
     "output_type": "execute_result"
    }
   ],
   "source": [
    "df.head()"
   ]
  },
  {
   "cell_type": "code",
   "execution_count": 22,
   "id": "467e7835",
   "metadata": {},
   "outputs": [],
   "source": [
    "def retlist(entry):\n",
    "    lis = []\n",
    "    i=entry['Item(s)']\n",
    "    for j in range(i):\n",
    "        lis.append(entry['Item {}'.format(j+1)])\n",
    "    return lis"
   ]
  },
  {
   "cell_type": "code",
   "execution_count": 27,
   "id": "325d9aa8",
   "metadata": {},
   "outputs": [
    {
     "data": {
      "text/plain": [
       "0       [citrus fruit, semi-finished bread, margarine,...\n",
       "1                        [tropical fruit, yogurt, coffee]\n",
       "2                                            [whole milk]\n",
       "3         [pip fruit, yogurt, cream cheese, meat spreads]\n",
       "4       [other vegetables, whole milk, condensed milk,...\n",
       "                              ...                        \n",
       "9830    [sausage, chicken, beef, hamburger meat, citru...\n",
       "9831                                  [cooking chocolate]\n",
       "9832    [chicken, citrus fruit, other vegetables, butt...\n",
       "9833    [semi-finished bread, bottled water, soda, bot...\n",
       "9834    [chicken, tropical fruit, other vegetables, vi...\n",
       "Length: 9835, dtype: object"
      ]
     },
     "execution_count": 27,
     "metadata": {},
     "output_type": "execute_result"
    }
   ],
   "source": [
    "df.apply(retlist, axis=1)"
   ]
  },
  {
   "cell_type": "code",
   "execution_count": 38,
   "id": "b62e7f7f",
   "metadata": {},
   "outputs": [],
   "source": [
    "inpt = list(df.apply(retlist, axis=1))"
   ]
  },
  {
   "cell_type": "code",
   "execution_count": 40,
   "id": "426f12fb",
   "metadata": {},
   "outputs": [],
   "source": [
    "itemlist, rules = apriori(inpt, min_confidence=.06, min_support=.06)"
   ]
  },
  {
   "cell_type": "code",
   "execution_count": 41,
   "id": "303fe6ae",
   "metadata": {},
   "outputs": [
    {
     "data": {
      "text/plain": [
       "{1: {('citrus fruit',): 814,\n",
       "  ('tropical fruit',): 1032,\n",
       "  ('yogurt',): 1372,\n",
       "  ('whole milk',): 2513,\n",
       "  ('pip fruit',): 744,\n",
       "  ('other vegetables',): 1903,\n",
       "  ('rolls/buns',): 1809,\n",
       "  ('bottled beer',): 792,\n",
       "  ('bottled water',): 1087,\n",
       "  ('soda',): 1715,\n",
       "  ('fruit/vegetable juice',): 711,\n",
       "  ('newspapers',): 785,\n",
       "  ('pastry',): 875,\n",
       "  ('root vegetables',): 1072,\n",
       "  ('canned beer',): 764,\n",
       "  ('sausage',): 924,\n",
       "  ('brown bread',): 638,\n",
       "  ('shopping bags',): 969,\n",
       "  ('whipped/sour cream',): 705,\n",
       "  ('domestic eggs',): 624},\n",
       " 2: {('other vegetables', 'whole milk'): 736}}"
      ]
     },
     "execution_count": 41,
     "metadata": {},
     "output_type": "execute_result"
    }
   ],
   "source": [
    "itemlist"
   ]
  },
  {
   "cell_type": "code",
   "execution_count": 42,
   "id": "b09a8cd2",
   "metadata": {},
   "outputs": [
    {
     "data": {
      "text/plain": [
       "[{whole milk} -> {other vegetables}, {other vegetables} -> {whole milk}]"
      ]
     },
     "execution_count": 42,
     "metadata": {},
     "output_type": "execute_result"
    }
   ],
   "source": [
    "rules"
   ]
  },
  {
   "cell_type": "markdown",
   "id": "cca8b9f3",
   "metadata": {},
   "source": [
    "# Bakery Dataset"
   ]
  },
  {
   "cell_type": "code",
   "execution_count": 61,
   "id": "10938b53",
   "metadata": {},
   "outputs": [],
   "source": [
    "file = open('D:/DM/datasets/bakery.csv','r')"
   ]
  },
  {
   "cell_type": "code",
   "execution_count": 62,
   "id": "3381d01b",
   "metadata": {},
   "outputs": [],
   "source": [
    "s = file.read()"
   ]
  },
  {
   "cell_type": "code",
   "execution_count": 70,
   "id": "1e8cbcca",
   "metadata": {},
   "outputs": [],
   "source": [
    "file.close()"
   ]
  },
  {
   "cell_type": "code",
   "execution_count": 82,
   "id": "f560a35a",
   "metadata": {},
   "outputs": [],
   "source": [
    "r = pd.Series(s.split('\\n'))"
   ]
  },
  {
   "cell_type": "code",
   "execution_count": 83,
   "id": "b1148756",
   "metadata": {},
   "outputs": [
    {
     "data": {
      "text/plain": [
       "0                           1, 11, 21\n",
       "1                    2, 7, 11, 37, 45\n",
       "2                        3, 3, 33, 42\n",
       "3                    4, 5, 12, 17, 47\n",
       "4                        5, 6, 18, 42\n",
       "                     ...             \n",
       "74996           74997, 12, 25, 35, 47\n",
       "74997            74998, 7, 12, 15, 49\n",
       "74998                   74999, 33, 42\n",
       "74999    75000, 3, 18, 21, 25, 35, 44\n",
       "75000                                \n",
       "Length: 75001, dtype: object"
      ]
     },
     "execution_count": 83,
     "metadata": {},
     "output_type": "execute_result"
    }
   ],
   "source": [
    "r"
   ]
  },
  {
   "cell_type": "code",
   "execution_count": 72,
   "id": "a5002cc6",
   "metadata": {},
   "outputs": [
    {
     "data": {
      "text/plain": [
       "'1, 11, 21'"
      ]
     },
     "execution_count": 72,
     "metadata": {},
     "output_type": "execute_result"
    }
   ],
   "source": [
    "r.iloc[0]"
   ]
  },
  {
   "cell_type": "code",
   "execution_count": 75,
   "id": "2b639a2d",
   "metadata": {},
   "outputs": [],
   "source": [
    "r.drop(len(r)-1, inplace=True)"
   ]
  },
  {
   "cell_type": "code",
   "execution_count": 76,
   "id": "a46e20a0",
   "metadata": {},
   "outputs": [
    {
     "data": {
      "text/plain": [
       "'91, 7, 16, 32, 45'"
      ]
     },
     "execution_count": 76,
     "metadata": {},
     "output_type": "execute_result"
    }
   ],
   "source": [
    "r[90]\n"
   ]
  },
  {
   "cell_type": "code",
   "execution_count": 77,
   "id": "d33d3629",
   "metadata": {},
   "outputs": [
    {
     "data": {
      "text/plain": [
       "'7, 16, 32, 45'"
      ]
     },
     "execution_count": 77,
     "metadata": {},
     "output_type": "execute_result"
    }
   ],
   "source": [
    "r[90][r[90].index(', ')+2:]"
   ]
  },
  {
   "cell_type": "code",
   "execution_count": 78,
   "id": "f2b9210c",
   "metadata": {},
   "outputs": [
    {
     "data": {
      "text/plain": [
       "1"
      ]
     },
     "execution_count": 78,
     "metadata": {},
     "output_type": "execute_result"
    }
   ],
   "source": [
    "r[0].index(', ')"
   ]
  },
  {
   "cell_type": "code",
   "execution_count": 79,
   "id": "06915337",
   "metadata": {},
   "outputs": [],
   "source": [
    "r = r[:-1]"
   ]
  },
  {
   "cell_type": "code",
   "execution_count": 80,
   "id": "2f11396b",
   "metadata": {},
   "outputs": [],
   "source": [
    "re = r.apply(lambda x: x[x.index(', ')+2:])"
   ]
  },
  {
   "cell_type": "code",
   "execution_count": 81,
   "id": "9225a663",
   "metadata": {},
   "outputs": [
    {
     "data": {
      "text/plain": [
       "0                11, 21\n",
       "1         7, 11, 37, 45\n",
       "2             3, 33, 42\n",
       "3         5, 12, 17, 47\n",
       "4             6, 18, 42\n",
       "              ...      \n",
       "74994        19, 22, 33\n",
       "74995      4, 9, 13, 40\n",
       "74996    12, 25, 35, 47\n",
       "74997     7, 12, 15, 49\n",
       "74998            33, 42\n",
       "Length: 74999, dtype: object"
      ]
     },
     "execution_count": 81,
     "metadata": {},
     "output_type": "execute_result"
    }
   ],
   "source": [
    "re"
   ]
  },
  {
   "cell_type": "code",
   "execution_count": 84,
   "id": "2e718961",
   "metadata": {},
   "outputs": [],
   "source": [
    "fname = [\"Chocolate Cake\",\"Lemon Cake\",\"Casino Cake\",\"Opera Cake\", \"Strawberry Cake\", \"Truffle Cake\", \"Chocolate Eclair\", \"Coffee Eclair\", \"Vanilla Eclair\", \"Napolean Cake\", \"Almond Tart\", \"Apple Pie\", \"Apple Tart\",\"Apricot Tart\", \"Berry Tart\", \"Blackberry Tart\", \"Blueberry Tart\", \"Chocolate Tart\", \"Cherry Tart\", \"Lemon Tart\", \"Pecan Tart\", \"Ganache Cookie\", \"Gongolais Cookie\", \"Raspberry Cookie\", \"Lemon Cookie\", \"Chocolate Meringue\", \"Vanilla Meringue\", \"Marzipan Cookie\", \"Tuile Cookie\", \"Walnut Cookie\", \"Almond Croissant\", \"Apple Croissant\", \"Apricot Croissant\", \"Cheese Croissant\", \"Chocolate Croissant\", \"Apricot Danish\", \"Apple Danish\", \"Almond Twist\", \"Almond Bear_Claw\", \"Blueberry Danish\", \"Lemon Lemonade\", \"Raspberry Lemonade\", \"Orange Juice\", \"Green Tea\", \"Bottled Water\", \"Hot Coffee\", \"Chocolate Coffee\", \"Vanilla Frappucino\", \"Cherry Soda\", \"Single Espresso\"]"
   ]
  },
  {
   "cell_type": "code",
   "execution_count": 85,
   "id": "4d4d27d6",
   "metadata": {},
   "outputs": [
    {
     "data": {
      "text/plain": [
       "range(0, 50)"
      ]
     },
     "execution_count": 85,
     "metadata": {},
     "output_type": "execute_result"
    }
   ],
   "source": [
    "range(len(fname))"
   ]
  },
  {
   "cell_type": "code",
   "execution_count": 88,
   "id": "ad0bbba6",
   "metadata": {},
   "outputs": [
    {
     "ename": "AttributeError",
     "evalue": "'list' object has no attribute 'split'",
     "output_type": "error",
     "traceback": [
      "\u001b[1;31m---------------------------------------------------------------------------\u001b[0m",
      "\u001b[1;31mAttributeError\u001b[0m                            Traceback (most recent call last)",
      "Input \u001b[1;32mIn [88]\u001b[0m, in \u001b[0;36m<cell line: 1>\u001b[1;34m()\u001b[0m\n\u001b[1;32m----> 1\u001b[0m re \u001b[38;5;241m=\u001b[39m \u001b[43mre\u001b[49m\u001b[38;5;241;43m.\u001b[39;49m\u001b[43mapply\u001b[49m\u001b[43m(\u001b[49m\u001b[38;5;28;43;01mlambda\u001b[39;49;00m\u001b[43m \u001b[49m\u001b[43mx\u001b[49m\u001b[43m:\u001b[49m\u001b[43m \u001b[49m\u001b[43mx\u001b[49m\u001b[38;5;241;43m.\u001b[39;49m\u001b[43msplit\u001b[49m\u001b[43m(\u001b[49m\u001b[38;5;124;43m'\u001b[39;49m\u001b[38;5;124;43m, \u001b[39;49m\u001b[38;5;124;43m'\u001b[39;49m\u001b[43m)\u001b[49m\u001b[43m)\u001b[49m\n",
      "File \u001b[1;32m~\\AppData\\Roaming\\Python\\Python39\\site-packages\\pandas\\core\\series.py:4631\u001b[0m, in \u001b[0;36mSeries.apply\u001b[1;34m(self, func, convert_dtype, args, **kwargs)\u001b[0m\n\u001b[0;32m   4521\u001b[0m \u001b[38;5;28;01mdef\u001b[39;00m \u001b[38;5;21mapply\u001b[39m(\n\u001b[0;32m   4522\u001b[0m     \u001b[38;5;28mself\u001b[39m,\n\u001b[0;32m   4523\u001b[0m     func: AggFuncType,\n\u001b[1;32m   (...)\u001b[0m\n\u001b[0;32m   4526\u001b[0m     \u001b[38;5;241m*\u001b[39m\u001b[38;5;241m*\u001b[39mkwargs,\n\u001b[0;32m   4527\u001b[0m ) \u001b[38;5;241m-\u001b[39m\u001b[38;5;241m>\u001b[39m DataFrame \u001b[38;5;241m|\u001b[39m Series:\n\u001b[0;32m   4528\u001b[0m     \u001b[38;5;124;03m\"\"\"\u001b[39;00m\n\u001b[0;32m   4529\u001b[0m \u001b[38;5;124;03m    Invoke function on values of Series.\u001b[39;00m\n\u001b[0;32m   4530\u001b[0m \n\u001b[1;32m   (...)\u001b[0m\n\u001b[0;32m   4629\u001b[0m \u001b[38;5;124;03m    dtype: float64\u001b[39;00m\n\u001b[0;32m   4630\u001b[0m \u001b[38;5;124;03m    \"\"\"\u001b[39;00m\n\u001b[1;32m-> 4631\u001b[0m     \u001b[38;5;28;01mreturn\u001b[39;00m \u001b[43mSeriesApply\u001b[49m\u001b[43m(\u001b[49m\u001b[38;5;28;43mself\u001b[39;49m\u001b[43m,\u001b[49m\u001b[43m \u001b[49m\u001b[43mfunc\u001b[49m\u001b[43m,\u001b[49m\u001b[43m \u001b[49m\u001b[43mconvert_dtype\u001b[49m\u001b[43m,\u001b[49m\u001b[43m \u001b[49m\u001b[43margs\u001b[49m\u001b[43m,\u001b[49m\u001b[43m \u001b[49m\u001b[43mkwargs\u001b[49m\u001b[43m)\u001b[49m\u001b[38;5;241;43m.\u001b[39;49m\u001b[43mapply\u001b[49m\u001b[43m(\u001b[49m\u001b[43m)\u001b[49m\n",
      "File \u001b[1;32m~\\AppData\\Roaming\\Python\\Python39\\site-packages\\pandas\\core\\apply.py:1025\u001b[0m, in \u001b[0;36mSeriesApply.apply\u001b[1;34m(self)\u001b[0m\n\u001b[0;32m   1022\u001b[0m     \u001b[38;5;28;01mreturn\u001b[39;00m \u001b[38;5;28mself\u001b[39m\u001b[38;5;241m.\u001b[39mapply_str()\n\u001b[0;32m   1024\u001b[0m \u001b[38;5;66;03m# self.f is Callable\u001b[39;00m\n\u001b[1;32m-> 1025\u001b[0m \u001b[38;5;28;01mreturn\u001b[39;00m \u001b[38;5;28;43mself\u001b[39;49m\u001b[38;5;241;43m.\u001b[39;49m\u001b[43mapply_standard\u001b[49m\u001b[43m(\u001b[49m\u001b[43m)\u001b[49m\n",
      "File \u001b[1;32m~\\AppData\\Roaming\\Python\\Python39\\site-packages\\pandas\\core\\apply.py:1076\u001b[0m, in \u001b[0;36mSeriesApply.apply_standard\u001b[1;34m(self)\u001b[0m\n\u001b[0;32m   1074\u001b[0m     \u001b[38;5;28;01melse\u001b[39;00m:\n\u001b[0;32m   1075\u001b[0m         values \u001b[38;5;241m=\u001b[39m obj\u001b[38;5;241m.\u001b[39mastype(\u001b[38;5;28mobject\u001b[39m)\u001b[38;5;241m.\u001b[39m_values\n\u001b[1;32m-> 1076\u001b[0m         mapped \u001b[38;5;241m=\u001b[39m \u001b[43mlib\u001b[49m\u001b[38;5;241;43m.\u001b[39;49m\u001b[43mmap_infer\u001b[49m\u001b[43m(\u001b[49m\n\u001b[0;32m   1077\u001b[0m \u001b[43m            \u001b[49m\u001b[43mvalues\u001b[49m\u001b[43m,\u001b[49m\n\u001b[0;32m   1078\u001b[0m \u001b[43m            \u001b[49m\u001b[43mf\u001b[49m\u001b[43m,\u001b[49m\n\u001b[0;32m   1079\u001b[0m \u001b[43m            \u001b[49m\u001b[43mconvert\u001b[49m\u001b[38;5;241;43m=\u001b[39;49m\u001b[38;5;28;43mself\u001b[39;49m\u001b[38;5;241;43m.\u001b[39;49m\u001b[43mconvert_dtype\u001b[49m\u001b[43m,\u001b[49m\n\u001b[0;32m   1080\u001b[0m \u001b[43m        \u001b[49m\u001b[43m)\u001b[49m\n\u001b[0;32m   1082\u001b[0m \u001b[38;5;28;01mif\u001b[39;00m \u001b[38;5;28mlen\u001b[39m(mapped) \u001b[38;5;129;01mand\u001b[39;00m \u001b[38;5;28misinstance\u001b[39m(mapped[\u001b[38;5;241m0\u001b[39m], ABCSeries):\n\u001b[0;32m   1083\u001b[0m     \u001b[38;5;66;03m# GH#43986 Need to do list(mapped) in order to get treated as nested\u001b[39;00m\n\u001b[0;32m   1084\u001b[0m     \u001b[38;5;66;03m#  See also GH#25959 regarding EA support\u001b[39;00m\n\u001b[0;32m   1085\u001b[0m     \u001b[38;5;28;01mreturn\u001b[39;00m obj\u001b[38;5;241m.\u001b[39m_constructor_expanddim(\u001b[38;5;28mlist\u001b[39m(mapped), index\u001b[38;5;241m=\u001b[39mobj\u001b[38;5;241m.\u001b[39mindex)\n",
      "File \u001b[1;32m~\\AppData\\Roaming\\Python\\Python39\\site-packages\\pandas\\_libs\\lib.pyx:2834\u001b[0m, in \u001b[0;36mpandas._libs.lib.map_infer\u001b[1;34m()\u001b[0m\n",
      "Input \u001b[1;32mIn [88]\u001b[0m, in \u001b[0;36m<lambda>\u001b[1;34m(x)\u001b[0m\n\u001b[1;32m----> 1\u001b[0m re \u001b[38;5;241m=\u001b[39m re\u001b[38;5;241m.\u001b[39mapply(\u001b[38;5;28;01mlambda\u001b[39;00m x: \u001b[43mx\u001b[49m\u001b[38;5;241;43m.\u001b[39;49m\u001b[43msplit\u001b[49m(\u001b[38;5;124m'\u001b[39m\u001b[38;5;124m, \u001b[39m\u001b[38;5;124m'\u001b[39m))\n",
      "\u001b[1;31mAttributeError\u001b[0m: 'list' object has no attribute 'split'"
     ]
    }
   ],
   "source": [
    "re = re.apply(lambda x: x.split(', '))"
   ]
  },
  {
   "cell_type": "code",
   "execution_count": null,
   "id": "e30b6852",
   "metadata": {},
   "outputs": [],
   "source": [
    "ree = re.apply(lambda x: list(pd.Series(x).replace(list(pd.Series(range(50)).astype(str)), fname)))"
   ]
  },
  {
   "cell_type": "code",
   "execution_count": null,
   "id": "f3a21f7c",
   "metadata": {},
   "outputs": [],
   "source": []
  }
 ],
 "metadata": {
  "kernelspec": {
   "display_name": "Python 3 (ipykernel)",
   "language": "python",
   "name": "python3"
  },
  "language_info": {
   "codemirror_mode": {
    "name": "ipython",
    "version": 3
   },
   "file_extension": ".py",
   "mimetype": "text/x-python",
   "name": "python",
   "nbconvert_exporter": "python",
   "pygments_lexer": "ipython3",
   "version": "3.9.12"
  },
  "widgets": {
   "application/vnd.jupyter.widget-state+json": {
    "state": {},
    "version_major": 2,
    "version_minor": 0
   }
  }
 },
 "nbformat": 4,
 "nbformat_minor": 5
}
