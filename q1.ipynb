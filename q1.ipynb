{
 "cells": [
  {
   "cell_type": "code",
   "execution_count": 2,
   "id": "b77fb1d6",
   "metadata": {},
   "outputs": [],
   "source": [
    "import pandas as pd\n",
    "import numpy as np\n",
    "import matplotlib.pyplot as plt"
   ]
  },
  {
   "cell_type": "code",
   "execution_count": 3,
   "id": "084ecbf6",
   "metadata": {},
   "outputs": [],
   "source": [
    "df = pd.read_table(r\"D:/DM/datasets/people.txt\", sep=\" \")"
   ]
  },
  {
   "cell_type": "code",
   "execution_count": 4,
   "id": "c12c84da",
   "metadata": {},
   "outputs": [
    {
     "name": "stdout",
     "output_type": "stream",
     "text": [
      "<class 'pandas.core.frame.DataFrame'>\n",
      "RangeIndex: 5 entries, 0 to 4\n",
      "Data columns (total 5 columns):\n",
      " #   Column        Non-Null Count  Dtype  \n",
      "---  ------        --------------  -----  \n",
      " 0   Age           5 non-null      int64  \n",
      " 1   agegroup      5 non-null      object \n",
      " 2   height        5 non-null      float64\n",
      " 3   status        5 non-null      object \n",
      " 4   yearsmarried  5 non-null      int64  \n",
      "dtypes: float64(1), int64(2), object(2)\n",
      "memory usage: 328.0+ bytes\n"
     ]
    }
   ],
   "source": [
    "df.info()"
   ]
  },
  {
   "cell_type": "code",
   "execution_count": 5,
   "id": "cc7949be",
   "metadata": {},
   "outputs": [
    {
     "data": {
      "text/html": [
       "<div>\n",
       "<style scoped>\n",
       "    .dataframe tbody tr th:only-of-type {\n",
       "        vertical-align: middle;\n",
       "    }\n",
       "\n",
       "    .dataframe tbody tr th {\n",
       "        vertical-align: top;\n",
       "    }\n",
       "\n",
       "    .dataframe thead th {\n",
       "        text-align: right;\n",
       "    }\n",
       "</style>\n",
       "<table border=\"1\" class=\"dataframe\">\n",
       "  <thead>\n",
       "    <tr style=\"text-align: right;\">\n",
       "      <th></th>\n",
       "      <th>Age</th>\n",
       "      <th>height</th>\n",
       "      <th>yearsmarried</th>\n",
       "    </tr>\n",
       "  </thead>\n",
       "  <tbody>\n",
       "    <tr>\n",
       "      <th>count</th>\n",
       "      <td>5.000000</td>\n",
       "      <td>5.00000</td>\n",
       "      <td>5.000000</td>\n",
       "    </tr>\n",
       "    <tr>\n",
       "      <th>mean</th>\n",
       "      <td>59.200000</td>\n",
       "      <td>2.54000</td>\n",
       "      <td>4.800000</td>\n",
       "    </tr>\n",
       "    <tr>\n",
       "      <th>std</th>\n",
       "      <td>91.163041</td>\n",
       "      <td>5.45967</td>\n",
       "      <td>8.642916</td>\n",
       "    </tr>\n",
       "    <tr>\n",
       "      <th>min</th>\n",
       "      <td>2.000000</td>\n",
       "      <td>-7.00000</td>\n",
       "      <td>-1.000000</td>\n",
       "    </tr>\n",
       "    <tr>\n",
       "      <th>25%</th>\n",
       "      <td>18.000000</td>\n",
       "      <td>3.00000</td>\n",
       "      <td>0.000000</td>\n",
       "    </tr>\n",
       "    <tr>\n",
       "      <th>50%</th>\n",
       "      <td>21.000000</td>\n",
       "      <td>5.00000</td>\n",
       "      <td>2.000000</td>\n",
       "    </tr>\n",
       "    <tr>\n",
       "      <th>75%</th>\n",
       "      <td>34.000000</td>\n",
       "      <td>5.70000</td>\n",
       "      <td>3.000000</td>\n",
       "    </tr>\n",
       "    <tr>\n",
       "      <th>max</th>\n",
       "      <td>221.000000</td>\n",
       "      <td>6.00000</td>\n",
       "      <td>20.000000</td>\n",
       "    </tr>\n",
       "  </tbody>\n",
       "</table>\n",
       "</div>"
      ],
      "text/plain": [
       "              Age   height  yearsmarried\n",
       "count    5.000000  5.00000      5.000000\n",
       "mean    59.200000  2.54000      4.800000\n",
       "std     91.163041  5.45967      8.642916\n",
       "min      2.000000 -7.00000     -1.000000\n",
       "25%     18.000000  3.00000      0.000000\n",
       "50%     21.000000  5.00000      2.000000\n",
       "75%     34.000000  5.70000      3.000000\n",
       "max    221.000000  6.00000     20.000000"
      ]
     },
     "execution_count": 5,
     "metadata": {},
     "output_type": "execute_result"
    }
   ],
   "source": [
    "df.describe()"
   ]
  },
  {
   "cell_type": "code",
   "execution_count": 6,
   "id": "5c65b690",
   "metadata": {},
   "outputs": [
    {
     "data": {
      "text/plain": [
       "0     True\n",
       "1     True\n",
       "2     True\n",
       "3    False\n",
       "4     True\n",
       "Name: Age, dtype: bool"
      ]
     },
     "execution_count": 6,
     "metadata": {},
     "output_type": "execute_result"
    }
   ],
   "source": [
    "isAgeValid = (df['Age'] > 0) & (df['Age'] < 150)\n",
    "isAgeValid"
   ]
  },
  {
   "cell_type": "code",
   "execution_count": 7,
   "id": "18dd15f1",
   "metadata": {},
   "outputs": [
    {
     "data": {
      "text/plain": [
       "0     True\n",
       "1     True\n",
       "2    False\n",
       "3     True\n",
       "4     True\n",
       "dtype: bool"
      ]
     },
     "execution_count": 7,
     "metadata": {},
     "output_type": "execute_result"
    }
   ],
   "source": [
    "invalidYearsMarried = df['Age'] > df['yearsmarried']\n",
    "invalidYearsMarried"
   ]
  },
  {
   "cell_type": "code",
   "execution_count": 8,
   "id": "8506560b",
   "metadata": {},
   "outputs": [
    {
     "data": {
      "text/plain": [
       "0    True\n",
       "1    True\n",
       "2    True\n",
       "3    True\n",
       "4    True\n",
       "Name: status, dtype: bool"
      ]
     },
     "execution_count": 8,
     "metadata": {},
     "output_type": "execute_result"
    }
   ],
   "source": [
    "invalidStatus = ((df['status'] == 'single')  | (df['status'] == 'married') | (df['status'] == 'widowed'))\n",
    "invalidStatus"
   ]
  },
  {
   "cell_type": "code",
   "execution_count": 9,
   "id": "37c3c351",
   "metadata": {},
   "outputs": [
    {
     "data": {
      "text/plain": [
       "0     True\n",
       "1     True\n",
       "2     True\n",
       "3     True\n",
       "4    False\n",
       "dtype: bool"
      ]
     },
     "execution_count": 9,
     "metadata": {},
     "output_type": "execute_result"
    }
   ],
   "source": [
    "Invalidagegroup = ((df['Age'] < 18)  & (df['agegroup'] == 'child')) | ((df['Age'] >= 18) & (df['Age'] < 65) & (df['agegroup'] == 'adult')) |  ((df['Age'] >= 65) & (df['agegroup'] == 'elderly'))\n",
    "Invalidagegroup"
   ]
  },
  {
   "cell_type": "code",
   "execution_count": 10,
   "id": "888d5e42",
   "metadata": {},
   "outputs": [],
   "source": [
    "agegr2 = ((df.Age < 18)  & (df.agegroup == 'child')) | ((df.Age >= 18) & (df.Age < 65) & (df.agegroup == 'adult')) | ((df.Age >= 65) & (df['agegroup'] == 'elderly'))"
   ]
  },
  {
   "cell_type": "code",
   "execution_count": 11,
   "id": "1e418b09",
   "metadata": {},
   "outputs": [],
   "source": [
    "invalidData = {\n",
    "    'isAgeValid' : {'InvalidCount' : len(df) - isAgeValid.sum()},\n",
    "    'YearMarried' : {'InvalidCount' : len(df) - invalidYearsMarried.sum()},\n",
    "    'Status' : {'InvalidCount' : len(df) - invalidStatus.sum()},\n",
    "    'AgeGroup' : {'InvalidCount' : len(df) - Invalidagegroup.sum()} \n",
    "    \n",
    "}"
   ]
  },
  {
   "cell_type": "code",
   "execution_count": 12,
   "id": "289dc476",
   "metadata": {},
   "outputs": [],
   "source": [
    "invalidData = {\n",
    "    'isAgeValid' :  len(df) - isAgeValid.sum(),\n",
    "    'YearMarried' :  len(df) - invalidYearsMarried.sum(),\n",
    "    'Status' :  len(df) - invalidStatus.sum(),\n",
    "    'AgeGroup' :  len(df) - Invalidagegroup.sum()\n",
    "    \n",
    "}"
   ]
  },
  {
   "cell_type": "code",
   "execution_count": 13,
   "id": "ec1cc72b",
   "metadata": {},
   "outputs": [
    {
     "data": {
      "text/plain": [
       "{'isAgeValid': 1, 'YearMarried': 1, 'Status': 0, 'AgeGroup': 1}"
      ]
     },
     "execution_count": 13,
     "metadata": {},
     "output_type": "execute_result"
    }
   ],
   "source": [
    "invalidData"
   ]
  },
  {
   "cell_type": "code",
   "execution_count": 14,
   "id": "8f71db1e",
   "metadata": {},
   "outputs": [
    {
     "data": {
      "text/plain": [
       "isAgeValid     1\n",
       "YearMarried    1\n",
       "Status         0\n",
       "AgeGroup       1\n",
       "dtype: int64"
      ]
     },
     "execution_count": 14,
     "metadata": {},
     "output_type": "execute_result"
    }
   ],
   "source": [
    "s1 = pd.Series(invalidData)\n",
    "s1"
   ]
  },
  {
   "cell_type": "code",
   "execution_count": 18,
   "id": "4739f4d4",
   "metadata": {},
   "outputs": [],
   "source": [
    "df1 = pd.DataFrame(data=s1 , columns=['No. Of times rule is broken'])"
   ]
  },
  {
   "cell_type": "code",
   "execution_count": 19,
   "id": "f4c2f6bd",
   "metadata": {},
   "outputs": [
    {
     "data": {
      "text/html": [
       "<div>\n",
       "<style scoped>\n",
       "    .dataframe tbody tr th:only-of-type {\n",
       "        vertical-align: middle;\n",
       "    }\n",
       "\n",
       "    .dataframe tbody tr th {\n",
       "        vertical-align: top;\n",
       "    }\n",
       "\n",
       "    .dataframe thead th {\n",
       "        text-align: right;\n",
       "    }\n",
       "</style>\n",
       "<table border=\"1\" class=\"dataframe\">\n",
       "  <thead>\n",
       "    <tr style=\"text-align: right;\">\n",
       "      <th></th>\n",
       "      <th>No. Of times rule is broken</th>\n",
       "    </tr>\n",
       "  </thead>\n",
       "  <tbody>\n",
       "    <tr>\n",
       "      <th>isAgeValid</th>\n",
       "      <td>1</td>\n",
       "    </tr>\n",
       "    <tr>\n",
       "      <th>YearMarried</th>\n",
       "      <td>1</td>\n",
       "    </tr>\n",
       "    <tr>\n",
       "      <th>Status</th>\n",
       "      <td>0</td>\n",
       "    </tr>\n",
       "    <tr>\n",
       "      <th>AgeGroup</th>\n",
       "      <td>1</td>\n",
       "    </tr>\n",
       "  </tbody>\n",
       "</table>\n",
       "</div>"
      ],
      "text/plain": [
       "             No. Of times rule is broken\n",
       "isAgeValid                             1\n",
       "YearMarried                            1\n",
       "Status                                 0\n",
       "AgeGroup                               1"
      ]
     },
     "execution_count": 19,
     "metadata": {},
     "output_type": "execute_result"
    }
   ],
   "source": [
    "df1"
   ]
  },
  {
   "cell_type": "code",
   "execution_count": 17,
   "id": "43f87bc9",
   "metadata": {},
   "outputs": [
    {
     "data": {
      "text/plain": [
       "<AxesSubplot:>"
      ]
     },
     "execution_count": 17,
     "metadata": {},
     "output_type": "execute_result"
    },
    {
     "data": {
      "image/png": "[encoded data removed]",
      "text/plain": [
       "<Figure size 432x288 with 1 Axes>"
      ]
     },
     "metadata": {
      "needs_background": "light"
     },
     "output_type": "display_data"
    }
   ],
   "source": [
    "df1.plot.bar()"
   ]
  }
 ],
 "metadata": {
  "kernelspec": {
   "display_name": "Python 3 (ipykernel)",
   "language": "python",
   "name": "python3"
  },
  "language_info": {
   "codemirror_mode": {
    "name": "ipython",
    "version": 3
   },
   "file_extension": ".py",
   "mimetype": "text/x-python",
   "name": "python",
   "nbconvert_exporter": "python",
   "pygments_lexer": "ipython3",
   "version": "3.9.12"
  },
  "widgets": {
   "application/vnd.jupyter.widget-state+json": {
    "state": {},
    "version_major": 2,
    "version_minor": 0
   }
  }
 },
 "nbformat": 4,
 "nbformat_minor": 5
}
